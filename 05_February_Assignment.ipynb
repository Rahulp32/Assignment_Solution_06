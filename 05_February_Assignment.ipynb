{
 "cells": [
  {
   "cell_type": "markdown",
   "id": "c1e9ba41-63da-4a10-b7be-f9ad781812b0",
   "metadata": {},
   "source": [
    "# 05_Assignment_Solution"
   ]
  },
  {
   "cell_type": "markdown",
   "id": "543ed35c-85aa-4ae7-af58-7fa8407a6b16",
   "metadata": {},
   "source": [
    "## Q1. Explain Class and Object with respect to Object-Oriented Programming. Give a suitable example."
   ]
  },
  {
   "cell_type": "markdown",
   "id": "a30db948-9b42-4ca1-be37-f53c2110533b",
   "metadata": {},
   "source": [
    "#### Class:\n",
    "#### A class is a blueprint or template for creating objects.\n",
    "#### It defines the properties (attributes) and behaviors (methods) that the objects created from the class will have.\n",
    "#### It acts as a logical grouping of data and functions.\n",
    "#### Object:\n",
    "#### An object is an instance of a class.\n",
    "#### It represents a specific entity with the attributes and behaviors defined by its class.\n",
    "#### Objects have unique states and can perform actions defined by the class.\n",
    "#### Example:"
   ]
  },
  {
   "cell_type": "code",
   "execution_count": 5,
   "id": "4a279ef5-81b8-4117-86ff-3463d4533a71",
   "metadata": {},
   "outputs": [
    {
     "name": "stdout",
     "output_type": "stream",
     "text": [
      "Car Details: 2020 Toyota Corolla\n",
      "Car Details: 2022 Honda Civic\n"
     ]
    }
   ],
   "source": [
    "# Defining a class\n",
    "class Car:\n",
    "    # Constructor to initialize the attributes\n",
    "    def __init__(self, brand, model, year):\n",
    "        self.brand = brand\n",
    "        self.model = model\n",
    "        self.year = year\n",
    "\n",
    "    # Method to display car details\n",
    "    def display_info(self):\n",
    "        print(f\"Car Details: {self.year} {self.brand} {self.model}\")\n",
    "\n",
    "# Creating objects (instances of the class)\n",
    "car1 = Car(\"Toyota\", \"Corolla\", 2020)\n",
    "car2 = Car(\"Honda\", \"Civic\", 2022)\n",
    "\n",
    "# Accessing attributes and methods\n",
    "car1.display_info()  # Output: Car Details: 2020 Toyota Corolla\n",
    "car2.display_info()  # Output: Car Details: 2022 Honda Civic\n"
   ]
  },
  {
   "cell_type": "code",
   "execution_count": null,
   "id": "c8f97dcc-9863-4dd7-aa1f-84260829e475",
   "metadata": {},
   "outputs": [],
   "source": []
  },
  {
   "cell_type": "markdown",
   "id": "83d68f16-3eff-463a-baaf-bd71d22ea766",
   "metadata": {},
   "source": [
    "## Q2. Name the four pillars of OOPs."
   ]
  },
  {
   "cell_type": "markdown",
   "id": "a1896682-1fbb-47e3-bd6b-fbe5e80af5fd",
   "metadata": {},
   "source": [
    "#### The four pillars of Object-Oriented Programming (OOP) are:\n",
    "#### 1. Encapsulation: Bundling data and methods into a single unit (class) and restricting direct access to some of the object's components.\n",
    "#### 2. Inheritance: Deriving new classes from existing ones to reuse, extend, or modify behaviors.\n",
    "#### 3. Polymorphism: The ability to present the same interface for different data types (e.g., method overloading or overriding).\n",
    "#### 4. Abstraction: Hiding the implementation details and showing only the essential features of an object.\n",
    "\n",
    "#### 1. Encapsulation:\n",
    "\n",
    "#### * Encapsulation is the process of bundling data (attributes) and methods (functions) into a single unit, typically a class.\n",
    "#### * It restricts direct access to some of the object's components and protects the internal state of an object.\n",
    "#### * Access is controlled using access modifiers like private, protected, and public.\n",
    "#### Example:"
   ]
  },
  {
   "cell_type": "code",
   "execution_count": 10,
   "id": "0e5dd568-d960-4b29-91bc-6c596890c9c6",
   "metadata": {},
   "outputs": [
    {
     "name": "stdout",
     "output_type": "stream",
     "text": [
      "1500\n"
     ]
    }
   ],
   "source": [
    "class BankAccount:\n",
    "    def __init__(self, balance):\n",
    "        self.__balance = balance  # Private attribute\n",
    "\n",
    "    def deposit(self, amount):\n",
    "        self.__balance += amount\n",
    "\n",
    "    def get_balance(self):\n",
    "        return self.__balance\n",
    "\n",
    "account = BankAccount(1000)\n",
    "account.deposit(500)\n",
    "print(account.get_balance())  # Output: 1500\n"
   ]
  },
  {
   "cell_type": "markdown",
   "id": "4ef722ad-7820-4d66-a0f2-f293c8efd43a",
   "metadata": {},
   "source": [
    "#### 2. Inheritance:\n",
    "\n",
    "#### * Inheritance allows a class (child class) to acquire the properties and methods of another class (parent class).\n",
    "#### * It promotes code reuse and establishes a relationship between classes.\n",
    "#### * Example:"
   ]
  },
  {
   "cell_type": "code",
   "execution_count": 16,
   "id": "9c327ffe-dc88-4f41-8aaf-9104aed818e5",
   "metadata": {},
   "outputs": [
    {
     "name": "stdout",
     "output_type": "stream",
     "text": [
      "Animal speaks\n",
      "Dog barks\n"
     ]
    }
   ],
   "source": [
    "class Animal:\n",
    "    def speak(self):\n",
    "        print(\"Animal speaks\")\n",
    "\n",
    "class Dog(Animal):\n",
    "    def bark(self):\n",
    "        print(\"Dog barks\")\n",
    "\n",
    "dog = Dog()\n",
    "dog.speak()  # Output: Animal speaks\n",
    "dog.bark()   # Output: Dog barks\n"
   ]
  },
  {
   "cell_type": "markdown",
   "id": "dbcf04e5-1688-4047-a418-9fa4d7bdbf8c",
   "metadata": {},
   "source": [
    "#### 3. Polymorphism\n",
    "\n",
    "#### * Polymorphism means \"many forms.\" It allows methods in different classes to have the same name but behave differently based on the object calling them.\n",
    "#### * Achieved through method overriding or operator overloading.\n",
    "#### Example:"
   ]
  },
  {
   "cell_type": "code",
   "execution_count": 20,
   "id": "94b51646-ec11-45bb-bb26-4b5645e6df67",
   "metadata": {},
   "outputs": [
    {
     "name": "stdout",
     "output_type": "stream",
     "text": [
      "Area of Circle\n",
      "Area of Rectangle\n"
     ]
    }
   ],
   "source": [
    "class Shape:\n",
    "    def area(self):\n",
    "        pass\n",
    "\n",
    "class Circle(Shape):\n",
    "    def area(self):\n",
    "        print(\"Area of Circle\")\n",
    "\n",
    "class Rectangle(Shape):\n",
    "    def area(self):\n",
    "        print(\"Area of Rectangle\")\n",
    "\n",
    "shapes = [Circle(), Rectangle()]\n",
    "for shape in shapes:\n",
    "    shape.area()\n",
    "# Output:\n",
    "# Area of Circle\n",
    "# Area of Rectangle\n"
   ]
  },
  {
   "cell_type": "markdown",
   "id": "16a5f353-dcd3-4790-8a97-61d7bfc7d908",
   "metadata": {},
   "source": [
    "#### 4. Abstraction\n",
    "\n",
    "#### * Abstraction hides the complex implementation details and exposes only the essential features of an object.\n",
    "#### * Achieved using abstract classes or interfaces.\n",
    "#### Example:"
   ]
  },
  {
   "cell_type": "code",
   "execution_count": 23,
   "id": "3f4b4c81-75d7-4d3f-bce0-99948d851521",
   "metadata": {},
   "outputs": [
    {
     "name": "stdout",
     "output_type": "stream",
     "text": [
      "Bark\n"
     ]
    }
   ],
   "source": [
    "from abc import ABC, abstractmethod\n",
    "\n",
    "class Animal(ABC):\n",
    "    @abstractmethod\n",
    "    def sound(self):\n",
    "        pass\n",
    "\n",
    "class Dog(Animal):\n",
    "    def sound(self):\n",
    "        print(\"Bark\")\n",
    "\n",
    "dog = Dog()\n",
    "dog.sound()  # Output: Bark\n"
   ]
  },
  {
   "cell_type": "code",
   "execution_count": null,
   "id": "ee539897-4112-4d14-a155-7559a6f4012b",
   "metadata": {},
   "outputs": [],
   "source": []
  },
  {
   "cell_type": "markdown",
   "id": "fa01d8ac-01dc-449f-91c0-120a0919b78c",
   "metadata": {},
   "source": [
    "## Q3. Explain why the __init__() function is used. Give a suitable example."
   ]
  },
  {
   "cell_type": "markdown",
   "id": "0c42c945-65e4-4cab-9c09-11740b1eb4a8",
   "metadata": {},
   "source": [
    "#### Explanation of __init__() Function in Python\n",
    "#### The __init__() function is a special method in Python classes, also known as the constructor. It is automatically called when an object of the class is created.\n",
    "\n",
    "#### Purpose of __init__():\n",
    "#### 1. Initialize Object Attributes: It initializes the attributes of an object with specific values when the object is created.\n",
    "#### 2. Encapsulation of Initialization Logic: It allows you to encapsulate any setup or initialization logic for the object in a single place."
   ]
  },
  {
   "cell_type": "markdown",
   "id": "2cff978e-bed1-4363-8698-47d6b9b18407",
   "metadata": {},
   "source": [
    "#### Example: Using __init__() to Initialize Attributes"
   ]
  },
  {
   "cell_type": "code",
   "execution_count": 29,
   "id": "8f0016b8-7b57-4a0e-9acd-37bf25995dc8",
   "metadata": {},
   "outputs": [
    {
     "name": "stdout",
     "output_type": "stream",
     "text": [
      "Name: Alice, Age: 20, Grade: A\n",
      "Name: Bob, Age: 22, Grade: B\n"
     ]
    }
   ],
   "source": [
    "class Student:\n",
    "    def __init__(self, name, age, grade):\n",
    "        self.name = name  # Initialize name attribute\n",
    "        self.age = age    # Initialize age attribute\n",
    "        self.grade = grade  # Initialize grade attribute\n",
    "\n",
    "    def display_info(self):\n",
    "        print(f\"Name: {self.name}, Age: {self.age}, Grade: {self.grade}\")\n",
    "\n",
    "# Creating objects of the Student class\n",
    "student1 = Student(\"Alice\", 20, \"A\")\n",
    "student2 = Student(\"Bob\", 22, \"B\")\n",
    "\n",
    "# Accessing attributes and methods\n",
    "student1.display_info()  # Output: Name: Alice, Age: 20, Grade: A\n",
    "student2.display_info()  # Output: Name: Bob, Age: 22, Grade: B\n"
   ]
  },
  {
   "cell_type": "markdown",
   "id": "919e0fca-4451-4498-af64-3a0b57786543",
   "metadata": {},
   "source": [
    "#### Example Without __init__():"
   ]
  },
  {
   "cell_type": "code",
   "execution_count": 32,
   "id": "68a8b40b-ef5d-4363-a80b-b91389d40c1c",
   "metadata": {},
   "outputs": [
    {
     "name": "stdout",
     "output_type": "stream",
     "text": [
      "Car: Toyota Corolla\n"
     ]
    }
   ],
   "source": [
    "class Car:\n",
    "    pass\n",
    "\n",
    "car = Car()\n",
    "# Manually setting attributes\n",
    "car.brand = \"Toyota\"\n",
    "car.model = \"Corolla\"\n",
    "print(f\"Car: {car.brand} {car.model}\")\n"
   ]
  },
  {
   "cell_type": "code",
   "execution_count": null,
   "id": "89a5e2b4-cc8c-466a-9fbf-efe7aefe9187",
   "metadata": {},
   "outputs": [],
   "source": []
  },
  {
   "cell_type": "markdown",
   "id": "9ceed7cd-a2fd-4931-83a9-823163d59176",
   "metadata": {},
   "source": [
    "## Q4. Why self is used in OOPs?"
   ]
  },
  {
   "cell_type": "markdown",
   "id": "1614b4a6-e3c9-4e8c-ba1d-18110bbf7f1a",
   "metadata": {},
   "source": [
    "\n",
    "#### In Python, self is a special keyword used in object-oriented programming (OOP) to represent the instance of the class. \n",
    "#### It is used as the first parameter in instance methods and allows access to the attributes and methods of the object.\n",
    "\n",
    "#### Purpose of self:\n",
    "#### Access Instance Attributes: It is used to refer to the object's own attributes and methods within the class.\n",
    "#### Differentiate Between Class and Instance Variables: It helps distinguish between instance attributes (specific to an object) and class attributes (shared across all objects).\n",
    "#### Maintain Object Context: It ensures that operations performed within a method apply to the specific instance calling the method.\n",
    "#### Key Points About self:\n",
    "#### 1. self is not a reserved keyword; it is just a naming convention. You can use any other name, but using self is standard practice.\n",
    "#### 2. It must be explicitly passed as the first parameter to instance methods.\n",
    "#### 3. It is automatically passed by Python when calling instance methods.\n",
    "#### Example: Using self to Access Instance Attributes"
   ]
  },
  {
   "cell_type": "code",
   "execution_count": 37,
   "id": "7ce03054-0032-4af5-9c99-6a86ff62a5c4",
   "metadata": {},
   "outputs": [
    {
     "name": "stdout",
     "output_type": "stream",
     "text": [
      "Hello, my name is Alice and I am 30 years old.\n"
     ]
    }
   ],
   "source": [
    "class Person:\n",
    "    def __init__(self, name, age):\n",
    "        self.name = name  # Instance attribute\n",
    "        self.age = age    # Instance attribute\n",
    "\n",
    "    def greet(self):\n",
    "        print(f\"Hello, my name is {self.name} and I am {self.age} years old.\")\n",
    "\n",
    "# Creating an object\n",
    "person1 = Person(\"Alice\", 30)\n",
    "\n",
    "# Accessing attributes and methods\n",
    "person1.greet()  # Output: Hello, my name is Alice and I am 30 years old.\n"
   ]
  },
  {
   "cell_type": "markdown",
   "id": "b02b7720-be27-40d4-bacb-7e522a58b761",
   "metadata": {},
   "source": [
    "#### Example: Differentiating Between Instance and Class Variables"
   ]
  },
  {
   "cell_type": "code",
   "execution_count": 40,
   "id": "d961eac6-143e-45a8-a4d3-af4dfcf1cd7a",
   "metadata": {},
   "outputs": [
    {
     "name": "stdout",
     "output_type": "stream",
     "text": [
      "Counter 1: 2, Counter 2: 1\n",
      "Class count: 3\n"
     ]
    }
   ],
   "source": [
    "class Counter:\n",
    "    count = 0  # Class variable (shared across all objects)\n",
    "\n",
    "    def __init__(self):\n",
    "        self.instance_count = 0  # Instance variable (specific to each object)\n",
    "\n",
    "    def increment(self):\n",
    "        Counter.count += 1  # Accessing class variable\n",
    "        self.instance_count += 1  # Accessing instance variable\n",
    "\n",
    "# Creating objects\n",
    "counter1 = Counter()\n",
    "counter2 = Counter()\n",
    "\n",
    "# Incrementing counters\n",
    "counter1.increment()\n",
    "counter1.increment()\n",
    "counter2.increment()\n",
    "\n",
    "print(f\"Counter 1: {counter1.instance_count}, Counter 2: {counter2.instance_count}\")\n",
    "print(f\"Class count: {Counter.count}\")\n",
    "# Output:\n",
    "# Counter 1: 2, Counter 2: 1\n",
    "# Class count: 3\n"
   ]
  },
  {
   "cell_type": "markdown",
   "id": "4a557865-b1c8-42bc-96cf-79c774cd8ca3",
   "metadata": {},
   "source": [
    "#### Why Is self Necessary?\n",
    "#### Without self, Python cannot distinguish whether a variable belongs to the class or is a local variable within a method.\n",
    "\n",
    "#### Example Without self:"
   ]
  },
  {
   "cell_type": "code",
   "execution_count": 43,
   "id": "32941bad-a2d4-4501-956e-d5bca83d14f8",
   "metadata": {},
   "outputs": [],
   "source": [
    "class Example:\n",
    "    def set_value(self, value):\n",
    "        value = value  # This creates a local variable, not an instance attribute\n",
    "\n",
    "    def get_value(self):\n",
    "        return value  # This will cause an error because `value` is not defined\n"
   ]
  },
  {
   "cell_type": "markdown",
   "id": "d26f2d7a-3ac9-4eae-aeb0-e76a27d64acf",
   "metadata": {},
   "source": [
    "#### Correct Example With self:"
   ]
  },
  {
   "cell_type": "code",
   "execution_count": 46,
   "id": "9271f113-84b0-4c11-90c5-67e80c000780",
   "metadata": {},
   "outputs": [
    {
     "name": "stdout",
     "output_type": "stream",
     "text": [
      "10\n"
     ]
    }
   ],
   "source": [
    "class Example:\n",
    "    def set_value(self, value):\n",
    "        self.value = value  # Instance attribute\n",
    "\n",
    "    def get_value(self):\n",
    "        return self.value  # Accessing the instance attribute\n",
    "\n",
    "obj = Example()\n",
    "obj.set_value(10)\n",
    "print(obj.get_value())  # Output: 10\n"
   ]
  },
  {
   "cell_type": "code",
   "execution_count": null,
   "id": "ed2c8f88-22cd-4b1d-8d8e-8ffa8138feb9",
   "metadata": {},
   "outputs": [],
   "source": []
  },
  {
   "cell_type": "markdown",
   "id": "e89c0888-817d-41a4-8ffa-c5b36c7b425a",
   "metadata": {},
   "source": [
    "## Q5. What is inheritance? Give an example for each type of inheritance."
   ]
  },
  {
   "cell_type": "markdown",
   "id": "9720e973-c0c5-4284-a8fa-364c96cd5933",
   "metadata": {},
   "source": [
    "#### Inheritance is a fundamental concept in Object-Oriented Programming (OOP) that allows a class (called the child or derived class) to inherit attributes and methods from another class (called the parent or base class).\n",
    "\n",
    "#### Key Features of Inheritance:\n",
    "#### 1. Code Reusability: Common functionality can be written once in the parent class and reused in child classes.\n",
    "#### 2. Extensibility: Child classes can add or modify the functionality of the parent class.\n",
    "#### 3. Hierarchical Relationships: Inheritance establishes a relationship between classes.\n",
    "#### Types of Inheritance with Examples\n",
    "#### 1. Single Inheritance\n",
    "#### A child class inherits from a single parent class.\n",
    "\n",
    "#### Example:"
   ]
  },
  {
   "cell_type": "code",
   "execution_count": 53,
   "id": "dc560b6c-6c0a-41e0-8e02-64f9a4841bc5",
   "metadata": {},
   "outputs": [
    {
     "name": "stdout",
     "output_type": "stream",
     "text": [
      "This animal makes a sound.\n",
      "The dog barks.\n"
     ]
    }
   ],
   "source": [
    "class Animal:\n",
    "    def speak(self):\n",
    "        print(\"This animal makes a sound.\")\n",
    "\n",
    "class Dog(Animal):\n",
    "    def bark(self):\n",
    "        print(\"The dog barks.\")\n",
    "\n",
    "dog = Dog()\n",
    "dog.speak()  # Output: This animal makes a sound.\n",
    "dog.bark()   # Output: The dog barks.\n"
   ]
  },
  {
   "cell_type": "markdown",
   "id": "fd35030a-91e6-4b53-bad3-f5a96a588970",
   "metadata": {},
   "source": [
    "#### 2. Multiple Inheritance\n",
    "#### A child class inherits from more than one parent class.\n",
    "\n",
    "#### Example:"
   ]
  },
  {
   "cell_type": "code",
   "execution_count": 56,
   "id": "0a32b3bc-0bb2-4203-8414-a6c433a0c528",
   "metadata": {},
   "outputs": [
    {
     "name": "stdout",
     "output_type": "stream",
     "text": [
      "Feature from Parent1\n",
      "Feature from Parent2\n",
      "Feature from Child\n"
     ]
    }
   ],
   "source": [
    "class Parent1:\n",
    "    def feature1(self):\n",
    "        print(\"Feature from Parent1\")\n",
    "\n",
    "class Parent2:\n",
    "    def feature2(self):\n",
    "        print(\"Feature from Parent2\")\n",
    "\n",
    "class Child(Parent1, Parent2):\n",
    "    def feature3(self):\n",
    "        print(\"Feature from Child\")\n",
    "\n",
    "child = Child()\n",
    "child.feature1()  # Output: Feature from Parent1\n",
    "child.feature2()  # Output: Feature from Parent2\n",
    "child.feature3()  # Output: Feature from Child\n"
   ]
  },
  {
   "cell_type": "markdown",
   "id": "44052d67-b195-4291-b20e-79d198eea34b",
   "metadata": {},
   "source": [
    "#### 3. Multilevel Inheritance\n",
    "#### A class is derived from a child class, forming a chain.\n",
    "\n",
    "#### Example:"
   ]
  },
  {
   "cell_type": "code",
   "execution_count": 59,
   "id": "7ad2eff9-850f-4387-b972-00c189bef3b5",
   "metadata": {},
   "outputs": [
    {
     "name": "stdout",
     "output_type": "stream",
     "text": [
      "Feature from Grandparent\n",
      "Feature from Parent\n",
      "Feature from Child\n"
     ]
    }
   ],
   "source": [
    "class Grandparent:\n",
    "    def feature1(self):\n",
    "        print(\"Feature from Grandparent\")\n",
    "\n",
    "class Parent(Grandparent):\n",
    "    def feature2(self):\n",
    "        print(\"Feature from Parent\")\n",
    "\n",
    "class Child(Parent):\n",
    "    def feature3(self):\n",
    "        print(\"Feature from Child\")\n",
    "\n",
    "child = Child()\n",
    "child.feature1()  # Output: Feature from Grandparent\n",
    "child.feature2()  # Output: Feature from Parent\n",
    "child.feature3()  # Output: Feature from Child\n"
   ]
  },
  {
   "cell_type": "markdown",
   "id": "66ba27a0-4fdf-44d0-955c-e131dd65ed3c",
   "metadata": {},
   "source": [
    "#### 4. Hierarchical Inheritance\n",
    "#### Multiple child classes inherit from a single parent class.\n",
    "\n",
    "#### Example:"
   ]
  },
  {
   "cell_type": "code",
   "execution_count": 62,
   "id": "3f61d2c4-a90a-4e66-82e2-e2f9d38ad973",
   "metadata": {},
   "outputs": [
    {
     "name": "stdout",
     "output_type": "stream",
     "text": [
      "Feature from Parent\n",
      "Feature from Child1\n",
      "Feature from Parent\n",
      "Feature from Child2\n"
     ]
    }
   ],
   "source": [
    "class Parent:\n",
    "    def feature(self):\n",
    "        print(\"Feature from Parent\")\n",
    "\n",
    "class Child1(Parent):\n",
    "    def feature1(self):\n",
    "        print(\"Feature from Child1\")\n",
    "\n",
    "class Child2(Parent):\n",
    "    def feature2(self):\n",
    "        print(\"Feature from Child2\")\n",
    "\n",
    "child1 = Child1()\n",
    "child1.feature()  # Output: Feature from Parent\n",
    "child1.feature1()  # Output: Feature from Child1\n",
    "\n",
    "child2 = Child2()\n",
    "child2.feature()  # Output: Feature from Parent\n",
    "child2.feature2()  # Output: Feature from Child2\n"
   ]
  },
  {
   "cell_type": "markdown",
   "id": "041b3bdb-f0b4-4ec7-9cbb-6254092f44c8",
   "metadata": {},
   "source": [
    "#### 5. Hybrid Inheritance\n",
    "#### A combination of two or more types of inheritance.\n",
    "\n",
    "#### Example:"
   ]
  },
  {
   "cell_type": "code",
   "execution_count": 65,
   "id": "6b0ee61b-7f8b-453c-876f-f43ab8eac314",
   "metadata": {},
   "outputs": [
    {
     "name": "stdout",
     "output_type": "stream",
     "text": [
      "Feature from Parent\n",
      "Feature from Child1\n",
      "Feature from Child2\n",
      "Feature from GrandChild\n"
     ]
    }
   ],
   "source": [
    "class Parent:\n",
    "    def feature(self):\n",
    "        print(\"Feature from Parent\")\n",
    "\n",
    "class Child1(Parent):\n",
    "    def feature1(self):\n",
    "        print(\"Feature from Child1\")\n",
    "\n",
    "class Child2(Parent):\n",
    "    def feature2(self):\n",
    "        print(\"Feature from Child2\")\n",
    "\n",
    "class GrandChild(Child1, Child2):\n",
    "    def feature3(self):\n",
    "        print(\"Feature from GrandChild\")\n",
    "\n",
    "grandchild = GrandChild()\n",
    "grandchild.feature()   # Output: Feature from Parent\n",
    "grandchild.feature1()  # Output: Feature from Child1\n",
    "grandchild.feature2()  # Output: Feature from Child2\n",
    "grandchild.feature3()  # Output: Feature from GrandChild\n"
   ]
  },
  {
   "cell_type": "code",
   "execution_count": null,
   "id": "0a2c559c-759b-496f-9a20-d2177cc745c6",
   "metadata": {},
   "outputs": [],
   "source": []
  }
 ],
 "metadata": {
  "kernelspec": {
   "display_name": "Python 3 (ipykernel)",
   "language": "python",
   "name": "python3"
  },
  "language_info": {
   "codemirror_mode": {
    "name": "ipython",
    "version": 3
   },
   "file_extension": ".py",
   "mimetype": "text/x-python",
   "name": "python",
   "nbconvert_exporter": "python",
   "pygments_lexer": "ipython3",
   "version": "3.11.7"
  }
 },
 "nbformat": 4,
 "nbformat_minor": 5
}
